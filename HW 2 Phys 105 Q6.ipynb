{
 "cells": [
  {
   "cell_type": "code",
   "execution_count": 18,
   "id": "65579deb",
   "metadata": {},
   "outputs": [],
   "source": [
    "from scipy import integrate\n",
    "import math as m"
   ]
  },
  {
   "cell_type": "code",
   "execution_count": 19,
   "id": "44e41675",
   "metadata": {},
   "outputs": [],
   "source": [
    "l = 0.5\n",
    "p = m.radians(60)"
   ]
  },
  {
   "cell_type": "code",
   "execution_count": 26,
   "id": "6d039616",
   "metadata": {},
   "outputs": [
    {
     "name": "stdout",
     "output_type": "stream",
     "text": [
      "Evaluation of K(k), the complete elliptic integral of the first kind.\n"
     ]
    }
   ],
   "source": [
    "def K(k):\n",
    "    f = lambda x, k: ( 1/( m.sqrt( (1-x**2)*(1-(k**2)*(x**2)) )) )\n",
    "    y, err = integrate.quad(f, 0, 1, args=(k))\n",
    "    \n",
    "    return y, err\n",
    "\n",
    "print(\"Evaluation of K(k), the complete elliptic integral of the first kind.\")"
   ]
  },
  {
   "cell_type": "code",
   "execution_count": 27,
   "id": "6f0f0c09",
   "metadata": {
    "scrolled": false
   },
   "outputs": [],
   "source": [
    "k = m.sin(p/2)\n",
    "r, e = K(k)"
   ]
  },
  {
   "cell_type": "code",
   "execution_count": 28,
   "id": "51b9d758",
   "metadata": {},
   "outputs": [
    {
     "name": "stdout",
     "output_type": "stream",
     "text": [
      "K( 0.49999999999999994 ) =  1.6857503548125774  +-  2.2627988371937136e-10\n"
     ]
    }
   ],
   "source": [
    "print(\"K(\", k, \") = \", r, \" +- \", e)"
   ]
  },
  {
   "cell_type": "code",
   "execution_count": 29,
   "id": "75a6519d",
   "metadata": {},
   "outputs": [
    {
     "name": "stdout",
     "output_type": "stream",
     "text": [
      "An asymptotic approximation to K(k) is  1.6853335589570242\n"
     ]
    }
   ],
   "source": [
    "def Ka(k):\n",
    "    a = m.pi/2. + m.pi*k**2/8.0/(1.0-k**2) - m.pi*k**4/16./(1.0-k**2)\n",
    "    return a\n",
    "print(\"An asymptotic approximation to K(k) is \", Ka(k))"
   ]
  },
  {
   "cell_type": "code",
   "execution_count": null,
   "id": "484d9347",
   "metadata": {},
   "outputs": [],
   "source": []
  }
 ],
 "metadata": {
  "kernelspec": {
   "display_name": "Python 3 (ipykernel)",
   "language": "python",
   "name": "python3"
  },
  "language_info": {
   "codemirror_mode": {
    "name": "ipython",
    "version": 3
   },
   "file_extension": ".py",
   "mimetype": "text/x-python",
   "name": "python",
   "nbconvert_exporter": "python",
   "pygments_lexer": "ipython3",
   "version": "3.11.2"
  }
 },
 "nbformat": 4,
 "nbformat_minor": 5
}
